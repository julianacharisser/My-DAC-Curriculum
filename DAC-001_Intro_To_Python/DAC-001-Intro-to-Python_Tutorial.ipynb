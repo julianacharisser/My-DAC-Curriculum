{
 "cells": [
  {
   "cell_type": "markdown",
   "metadata": {},
   "source": [
    "##### Question 1: Lists Question 1: Lists \n",
    "Task:\n",
    "(a) Create a list named fruits with the items \"apple\", \"orange\", and \"banana\".\n",
    "(b) Add \"tomato\" to the end of the fruits list.\n",
    "(c) Remove \"apple\" from the fruits list."
   ]
  },
  {
   "cell_type": "code",
   "execution_count": 5,
   "metadata": {},
   "outputs": [
    {
     "data": {
      "text/plain": [
       "['orange', 'banana', 'tomato']"
      ]
     },
     "execution_count": 5,
     "metadata": {},
     "output_type": "execute_result"
    }
   ],
   "source": [
    "fruit_list = [\"apple\", \"orange\", \"banana\"]\n",
    "fruit_list.append(\"tomato\")\n",
    "fruit_list.remove(\"apple\")\n",
    "fruit_list"
   ]
  },
  {
   "cell_type": "markdown",
   "metadata": {},
   "source": [
    "##### Question 2: Tuples\n",
    "Task:\n",
    "(a) Create a tuple named subjects with the following elements: \"physics\", \"chemistry\", \"english\", \"math\", and \"biology\".\n",
    "(b) Attempt to append \"literature\" to the tuple and observe the result. Suggest an alternative way to add an element to a tuple.\n",
    "(c) Count the number of elements in the subjects tuple."
   ]
  },
  {
   "cell_type": "code",
   "execution_count": 21,
   "metadata": {},
   "outputs": [
    {
     "name": "stdout",
     "output_type": "stream",
     "text": [
      "<class 'tuple'>\n",
      "5\n"
     ]
    }
   ],
   "source": [
    "subject_tuple = (\"physics\", \"chemistry\", \"english\", \"math\", \"biology\") \n",
    "# subject_tuple.append(\"literature\") \n",
    "# since tuples are immutable, we can turn the tuple to a list and add the new element\n",
    "list(subject_tuple).append(\"literature\")\n",
    "tuple(subject_tuple) # then turn the list to a tuple again\n",
    "print(type(subject_tuple))\n",
    "print(len(subject_tuple))\n"
   ]
  },
  {
   "cell_type": "markdown",
   "metadata": {},
   "source": [
    "##### Question 3: Sorting Lists\n",
    "Task:\n",
    "(a) Create a list named students_id with the values [10, 6, 7, 8, 9, 3].\n",
    "(b) Sort the list in descending order and reinitialize it as sorted_students_id.\n",
    "(c) Remove all elements from the sorted_students_id list."
   ]
  },
  {
   "cell_type": "code",
   "execution_count": 28,
   "metadata": {},
   "outputs": [
    {
     "name": "stdout",
     "output_type": "stream",
     "text": [
      "[10, 9, 8, 7, 6, 3]\n"
     ]
    }
   ],
   "source": [
    "students_id = [10, 6, 7, 8, 9, 3]\n",
    "students_id.sort(reverse=True)\n",
    "sorted_students_id = students_id\n",
    "print(sorted_students_id)"
   ]
  },
  {
   "cell_type": "markdown",
   "metadata": {},
   "source": [
    "##### Question 4: Generating Lists\n",
    "Task:\n",
    "Generate a list of numbers starting from 15 and decreasing by 3 each step, until the number is positive (not inclusive of zero). Store it in a variable named desc_list."
   ]
  },
  {
   "cell_type": "markdown",
   "metadata": {},
   "source": [
    "Can refer to creating a list starting from 5 and ending at -5, with a step of -1\n",
    "list_s = list(range(5, -5, -1))"
   ]
  },
  {
   "cell_type": "code",
   "execution_count": 4,
   "metadata": {},
   "outputs": [
    {
     "data": {
      "text/plain": [
       "[15, 12, 9, 6, 3]"
      ]
     },
     "execution_count": 4,
     "metadata": {},
     "output_type": "execute_result"
    }
   ],
   "source": [
    "desc_list = list(range(15, 1, -3))   \n",
    "desc_list"
   ]
  },
  {
   "cell_type": "markdown",
   "metadata": {},
   "source": [
    "##### Question 5: Generating Lists\n",
    "Task:\n",
    "Generate a list of numbers starting from 2, increasing by 2 each step, until the list contains 14 elements. Store it in a variable named asc_list."
   ]
  },
  {
   "cell_type": "code",
   "execution_count": 5,
   "metadata": {},
   "outputs": [
    {
     "name": "stdout",
     "output_type": "stream",
     "text": [
      "[2, 4, 6, 8, 10, 12, 14, 16, 18, 20, 22, 24, 26, 28]\n",
      "14\n"
     ]
    }
   ],
   "source": [
    "asc_list = [2]\n",
    "\n",
    "for i in range(13):\n",
    "    asc_list.append(asc_list[i]+2)\n",
    "    \n",
    "print(asc_list)\n",
    "print(len(asc_list))\n"
   ]
  },
  {
   "cell_type": "markdown",
   "metadata": {},
   "source": [
    "##### Question 6: Combining and Separating Lists\n",
    "Task:\n",
    "Combine the lists generated in Questions 4 and 5 into a single list named combined_list.\n",
    "Separate the even and odd numbers from combined_list into two separate lists: even_numbers and odd_numbers."
   ]
  },
  {
   "cell_type": "code",
   "execution_count": 13,
   "metadata": {},
   "outputs": [
    {
     "name": "stdout",
     "output_type": "stream",
     "text": [
      "[15, 12, 9, 6, 3, 2, 4, 6, 8, 10, 12, 14, 16, 18, 20, 22, 24, 26, 28]\n",
      "[12, 6, 2, 4, 6, 8, 10, 12, 14, 16, 18, 20, 22, 24, 26, 28]\n",
      "[15, 9, 3]\n"
     ]
    }
   ],
   "source": [
    "combined_list = desc_list + asc_list\n",
    "print(combined_list)\n",
    "\n",
    "even_numbers = []\n",
    "odd_numbers = []\n",
    "\n",
    "for i in range(len(combined_list)):\n",
    "    if combined_list[i] == 0:\n",
    "        even_numbers.append(combined_list[i])\n",
    "    elif (combined_list[i] % 2) == 0:\n",
    "        even_numbers.append(combined_list[i])\n",
    "    elif (combined_list[i] % 2) != 0:\n",
    "        odd_numbers.append(combined_list[i])\n",
    "\n",
    "print(even_numbers)\n",
    "print(odd_numbers)"
   ]
  },
  {
   "cell_type": "markdown",
   "metadata": {},
   "source": [
    "##### Question 7: Functions\n",
    "Task:\n",
    "Create a function circle_properties(radius) that takes in the radius of a circle and returns both the area and circumference."
   ]
  },
  {
   "cell_type": "code",
   "execution_count": 32,
   "metadata": {},
   "outputs": [
    {
     "name": "stdout",
     "output_type": "stream",
     "text": [
      "Given that the radius is 3:\n",
      "Area of the circle is 28.278\n",
      "Circumference of the circle is 18.852\n"
     ]
    }
   ],
   "source": [
    "def circle_properties(radius):\n",
    "    area = 3.142 * radius * radius\n",
    "    circumference = 3.142 * (2 * radius)\n",
    "    print(f\"Area of the circle is {area}\")\n",
    "    print(f\"Circumference of the circle is {circumference}\")\n",
    "\n",
    "radius_input = 3\n",
    "print(f\"Given that the radius is {radius_input}:\")\n",
    "answer = circle_properties(radius_input)  "
   ]
  },
  {
   "cell_type": "markdown",
   "metadata": {},
   "source": [
    "##### Question 8: Custom Function\n",
    "Task:\n",
    "Define a function that performs a task you find interesting. Demonstrate how this function works."
   ]
  },
  {
   "cell_type": "code",
   "execution_count": 27,
   "metadata": {},
   "outputs": [
    {
     "name": "stdout",
     "output_type": "stream",
     "text": [
      "Question: Is it worthwhile to join DAC?\n",
      "Magic 8-Ball says: My sources say no\n"
     ]
    }
   ],
   "source": [
    "import random  # Importing the random module to use for generating random responses\n",
    "\n",
    "# Function to simulate a magic 8-ball response\n",
    "def magic_8_ball():\n",
    "    # List of possible responses from the magic 8-ball\n",
    "    responses = [\n",
    "        \"Yes\", \"No\", \"It is certain\", \"Without a doubt\",\n",
    "        \"Reply hazy, try again\", \"Don't count on it\",\n",
    "        \"My sources say no\", \"Outlook not so good\", \"Very doubtful\",\n",
    "        \"You may rely on it\"\n",
    "    ]\n",
    "    # Return a random response from the list\n",
    "    return random.choice(responses)\n",
    "\n",
    "# Time for you to ask it a question!\n",
    "question = \"Is it worthwhile to join DAC?\"  # Define a question\n",
    "answer = magic_8_ball()  # Get a random response from the magic 8-ball\n",
    "print(f\"Question: {question}\")  # Print the question\n",
    "print(f\"Magic 8-Ball says: {answer}\")  # Print the answer"
   ]
  },
  {
   "cell_type": "markdown",
   "metadata": {},
   "source": [
    "##### Question 9: Creating and Manipulating Dictionaries\n",
    "Task:\n",
    "(a) Create a dictionary named student_grades with the following keys and values: \"Alice\": 85, \"Bob\": 90, and \"Charlie\": 78.\n",
    "(b) Add a new student, \"David\", with a grade of 92 to the student_grades dictionary.\n",
    "(c) Update \"Alice\"'s grade to 88."
   ]
  },
  {
   "cell_type": "code",
   "execution_count": 33,
   "metadata": {},
   "outputs": [
    {
     "data": {
      "text/plain": [
       "{'Alice': 85, 'Bob': 90, 'Charlie': 78}"
      ]
     },
     "execution_count": 33,
     "metadata": {},
     "output_type": "execute_result"
    }
   ],
   "source": [
    "student_grades = {\n",
    "    \"Alice\": 85, \n",
    "    \"Bob\": 90, \n",
    "    \"Charlie\": 78\n",
    "}\n",
    "student_grades"
   ]
  },
  {
   "cell_type": "code",
   "execution_count": 22,
   "metadata": {},
   "outputs": [
    {
     "data": {
      "text/plain": [
       "{'Alice': 88, 'Bob': 90, 'Charlie': 78, 'David': 92}"
      ]
     },
     "execution_count": 22,
     "metadata": {},
     "output_type": "execute_result"
    }
   ],
   "source": [
    "student_grades[\"David\"] = 92\n",
    "student_grades"
   ]
  },
  {
   "cell_type": "code",
   "execution_count": 20,
   "metadata": {},
   "outputs": [
    {
     "name": "stdout",
     "output_type": "stream",
     "text": [
      "88\n"
     ]
    }
   ],
   "source": [
    "student_grades[\"Alice\"] = 88\n",
    "print(student_grades.get(\"Alice\"))"
   ]
  },
  {
   "cell_type": "markdown",
   "metadata": {},
   "source": [
    "##### Question 10: Using Dictionaries to Count Occurrences\n",
    "Task:\n",
    "Given the list of fruits [\"apple\", \"banana\", \"apple\", \"orange\", \"banana\", \"apple\"], create a dictionary named fruit_count that counts the number of times each fruit appears in the list."
   ]
  },
  {
   "cell_type": "code",
   "execution_count": 34,
   "metadata": {},
   "outputs": [
    {
     "data": {
      "text/plain": [
       "{'apple': 3, 'banana': 2, 'orange': 1}"
      ]
     },
     "execution_count": 34,
     "metadata": {},
     "output_type": "execute_result"
    }
   ],
   "source": [
    "fruit_list = [\"apple\", \"banana\", \"apple\", \"orange\", \"banana\", \"apple\"]\n",
    "fruit_count = {fruit:fruit_list.count(fruit) for fruit in fruit_list}\n",
    "fruit_count"
   ]
  }
 ],
 "metadata": {
  "kernelspec": {
   "display_name": "Python 3",
   "language": "python",
   "name": "python3"
  },
  "language_info": {
   "codemirror_mode": {
    "name": "ipython",
    "version": 3
   },
   "file_extension": ".py",
   "mimetype": "text/x-python",
   "name": "python",
   "nbconvert_exporter": "python",
   "pygments_lexer": "ipython3",
   "version": "3.10.7"
  }
 },
 "nbformat": 4,
 "nbformat_minor": 2
}
